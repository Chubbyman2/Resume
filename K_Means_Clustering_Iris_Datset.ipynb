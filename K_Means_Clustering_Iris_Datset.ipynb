{
  "nbformat": 4,
  "nbformat_minor": 0,
  "metadata": {
    "colab": {
      "name": "K-Means Clustering Iris Datset.ipynb",
      "provenance": [],
      "authorship_tag": "ABX9TyPJO1/q8Y15aGGAFZHwlw8b",
      "include_colab_link": true
    },
    "kernelspec": {
      "name": "python3",
      "display_name": "Python 3"
    }
  },
  "cells": [
    {
      "cell_type": "markdown",
      "metadata": {
        "id": "view-in-github",
        "colab_type": "text"
      },
      "source": [
        "<a href=\"https://colab.research.google.com/github/Chubbyman2/Resume/blob/master/K_Means_Clustering_Iris_Datset.ipynb\" target=\"_parent\"><img src=\"https://colab.research.google.com/assets/colab-badge.svg\" alt=\"Open In Colab\"/></a>"
      ]
    },
    {
      "cell_type": "markdown",
      "metadata": {
        "id": "TJO2iJDx43vg"
      },
      "source": [
        "Iris Dataset:\n",
        "\n",
        "https://www.kaggle.com/vvenanccio/irisflowers"
      ]
    },
    {
      "cell_type": "code",
      "metadata": {
        "id": "8u6nwLumpa_v"
      },
      "source": [
        "import numpy as np\n",
        "import matplotlib.pyplot as plt\n",
        "import pandas as pd\n",
        "import seaborn as sns\n",
        "\n",
        "from sklearn.cluster import KMeans\n",
        "from sklearn.decomposition import PCA\n",
        "from sklearn.metrics import silhouette_score, adjusted_rand_score\n",
        "from sklearn.pipeline import Pipeline\n",
        "from sklearn.preprocessing import LabelEncoder, MinMaxScaler"
      ],
      "execution_count": null,
      "outputs": []
    },
    {
      "cell_type": "code",
      "metadata": {
        "id": "kmIfWHttgJPA",
        "outputId": "92b1938f-4a43-4f0c-f58d-84a51ce555dc",
        "colab": {
          "base_uri": "https://localhost:8080/",
          "height": 54
        }
      },
      "source": [
        "from google.colab import drive\n",
        "drive.mount('/content/gdrive')"
      ],
      "execution_count": null,
      "outputs": [
        {
          "output_type": "stream",
          "text": [
            "Drive already mounted at /content/gdrive; to attempt to forcibly remount, call drive.mount(\"/content/gdrive\", force_remount=True).\n"
          ],
          "name": "stdout"
        }
      ]
    },
    {
      "cell_type": "code",
      "metadata": {
        "id": "qJuLHlaRpcD-"
      },
      "source": [
        "datafile = \"/content/gdrive/My Drive/iris_dataset.csv\"\n",
        "\n",
        "# Use numpy's helper functions to load data as numpy arrays\n",
        "data = np.genfromtxt(\n",
        "    datafile,\n",
        "    delimiter=\",\",\n",
        "    usecols=range(0, 4), # Extracts 1st-3rd columns\n",
        "    skip_header=1\n",
        ")\n",
        "\n",
        "true_label_names = np.genfromtxt(\n",
        "    datafile,\n",
        "    delimiter=\",\",\n",
        "    usecols=(4),\n",
        "    skip_header=1,\n",
        "    dtype=\"str\"\n",
        ")"
      ],
      "execution_count": null,
      "outputs": []
    },
    {
      "cell_type": "code",
      "metadata": {
        "id": "XAdrvYt4rBKG",
        "outputId": "00320bc9-98e0-402f-e2b6-51cb5e04b9b8",
        "colab": {
          "base_uri": "https://localhost:8080/",
          "height": 102
        }
      },
      "source": [
        "# First 3 columns of data for first 5 samples\n",
        "data[:5, :3]"
      ],
      "execution_count": null,
      "outputs": [
        {
          "output_type": "execute_result",
          "data": {
            "text/plain": [
              "array([[5.1, 3.5, 1.4],\n",
              "       [4.9, 3. , 1.4],\n",
              "       [4.7, 3.2, 1.3],\n",
              "       [4.6, 3.1, 1.5],\n",
              "       [5. , 3.6, 1.4]])"
            ]
          },
          "metadata": {
            "tags": []
          },
          "execution_count": 31
        }
      ]
    },
    {
      "cell_type": "code",
      "metadata": {
        "id": "ZV5lBA7rqafo",
        "outputId": "d4b03a0a-63eb-4d60-b619-41b0b4576002",
        "colab": {
          "base_uri": "https://localhost:8080/",
          "height": 34
        }
      },
      "source": [
        "# Labels of first 5 samples\n",
        "true_label_names[:5]"
      ],
      "execution_count": null,
      "outputs": [
        {
          "output_type": "execute_result",
          "data": {
            "text/plain": [
              "array(['SETOSA', 'SETOSA', 'SETOSA', 'SETOSA', 'SETOSA'], dtype='<U10')"
            ]
          },
          "metadata": {
            "tags": []
          },
          "execution_count": 32
        }
      ]
    },
    {
      "cell_type": "code",
      "metadata": {
        "id": "by6ZyEcFra4c",
        "outputId": "9bc680af-6063-420f-ab0f-b60bdb21a2e6",
        "colab": {
          "base_uri": "https://localhost:8080/",
          "height": 34
        }
      },
      "source": [
        "# Convert \"Setosa\", \"Versicolor\", \"Virginica\" to integers\n",
        "label_encoder = LabelEncoder()\n",
        "\n",
        "true_labels = label_encoder.fit_transform(true_label_names)\n",
        "\n",
        "true_labels[:5]"
      ],
      "execution_count": null,
      "outputs": [
        {
          "output_type": "execute_result",
          "data": {
            "text/plain": [
              "array([0, 0, 0, 0, 0])"
            ]
          },
          "metadata": {
            "tags": []
          },
          "execution_count": 33
        }
      ]
    },
    {
      "cell_type": "code",
      "metadata": {
        "id": "cmrRyhx_rnNQ",
        "outputId": "6dd4e230-6001-46f9-a709-361490ea2add",
        "colab": {
          "base_uri": "https://localhost:8080/",
          "height": 34
        }
      },
      "source": [
        "# 3 unique classes - Setosa, Versicolor, Virginica\n",
        "label_encoder.classes_"
      ],
      "execution_count": null,
      "outputs": [
        {
          "output_type": "execute_result",
          "data": {
            "text/plain": [
              "array(['SETOSA', 'VERSICOLOR', 'VIRGINICA'], dtype='<U10')"
            ]
          },
          "metadata": {
            "tags": []
          },
          "execution_count": 34
        }
      ]
    },
    {
      "cell_type": "code",
      "metadata": {
        "id": "N6UNzyiyrtDm",
        "outputId": "ca3aa52d-0255-4b7c-a72b-7ad31d011e5d",
        "colab": {
          "base_uri": "https://localhost:8080/",
          "height": 34
        }
      },
      "source": [
        "# Therefore, 3 clusters\n",
        "n_clusters = len(label_encoder.classes_)\n",
        "n_clusters"
      ],
      "execution_count": null,
      "outputs": [
        {
          "output_type": "execute_result",
          "data": {
            "text/plain": [
              "3"
            ]
          },
          "metadata": {
            "tags": []
          },
          "execution_count": 35
        }
      ]
    },
    {
      "cell_type": "markdown",
      "metadata": {
        "id": "rRtxCj1TXPvy"
      },
      "source": [
        "**Dimensionality Reduction and Principal Component Analysis (PCA)**\n",
        "\n",
        "As the number of dimensions increases, the feature space increases at a rapid pace, becoming sparse.\n",
        "\n",
        "The objects then become very separated and difficult for algorithms to group.\n",
        "\n",
        "This is the **Curse of Dimensionality** and is fixed by using PCA to project input data into a lower number of dimensions called **components**.\n",
        "\n",
        "https://en.wikipedia.org/wiki/Curse_of_dimensionality"
      ]
    },
    {
      "cell_type": "code",
      "metadata": {
        "id": "vPM8qGzEr_ex"
      },
      "source": [
        "# Preprocessing Pipeline\n",
        "# Use MinMaxScaler for feature scaling\n",
        "# Reduces 4 features of irises to 2 components\n",
        "preprocessor = Pipeline([(\"scaler\", MinMaxScaler()), \n",
        "                         (\"pca\", PCA(n_components=2, random_state=None))])"
      ],
      "execution_count": null,
      "outputs": []
    },
    {
      "cell_type": "code",
      "metadata": {
        "id": "QljG2dR9sJD3"
      },
      "source": [
        "# K-means Pipeline\n",
        "# Use k-means++ to ensure centroids are initialized with some distance between them\n",
        "clusterer = Pipeline([(\"kmeans\", KMeans(n_clusters=n_clusters, \n",
        "                                        init=\"k-means++\", \n",
        "                                        n_init=50, \n",
        "                                        max_iter=500, \n",
        "                                        random_state=None))])"
      ],
      "execution_count": null,
      "outputs": []
    },
    {
      "cell_type": "code",
      "metadata": {
        "id": "JxE3pvQ4sMeG"
      },
      "source": [
        "# Chain the pipelines, build and end-to-end k-means clustering pipeline\n",
        "pipe = Pipeline([(\"preprocessor\", preprocessor), \n",
        "                 (\"clusterer\", clusterer)])"
      ],
      "execution_count": null,
      "outputs": []
    },
    {
      "cell_type": "code",
      "metadata": {
        "id": "4Vuk2e9SsOOk",
        "outputId": "9c7e0911-0ea7-4dd4-8555-45d75459f3e4",
        "colab": {
          "base_uri": "https://localhost:8080/",
          "height": 408
        }
      },
      "source": [
        "pipe.fit(data)"
      ],
      "execution_count": null,
      "outputs": [
        {
          "output_type": "execute_result",
          "data": {
            "text/plain": [
              "Pipeline(memory=None,\n",
              "         steps=[('preprocessor',\n",
              "                 Pipeline(memory=None,\n",
              "                          steps=[('scaler',\n",
              "                                  MinMaxScaler(copy=True,\n",
              "                                               feature_range=(0, 1))),\n",
              "                                 ('pca',\n",
              "                                  PCA(copy=True, iterated_power='auto',\n",
              "                                      n_components=2, random_state=None,\n",
              "                                      svd_solver='auto', tol=0.0,\n",
              "                                      whiten=False))],\n",
              "                          verbose=False)),\n",
              "                ('clusterer',\n",
              "                 Pipeline(memory=None,\n",
              "                          steps=[('kmeans',\n",
              "                                  KMeans(algorithm='auto', copy_x=True,\n",
              "                                         init='k-means++', max_iter=500,\n",
              "                                         n_clusters=3, n_init=50, n_jobs=None,\n",
              "                                         precompute_distances='auto',\n",
              "                                         random_state=None, tol=0.0001,\n",
              "                                         verbose=0))],\n",
              "                          verbose=False))],\n",
              "         verbose=False)"
            ]
          },
          "metadata": {
            "tags": []
          },
          "execution_count": 46
        }
      ]
    },
    {
      "cell_type": "markdown",
      "metadata": {
        "id": "wDSIDSDzYA9W"
      },
      "source": [
        "**The Silhouette Coefficient**\n",
        "\n",
        "Quantifies how well a data point fits into its assigned cluster based on:\n",
        "\n",
        "1. How close the data point is to others in the cluster\n",
        "\n",
        "2. How far away the data point is from others in other clusters\n",
        "\n",
        "Silhouette coefficient values range from -1 to 1, with values closer to 1 being better."
      ]
    },
    {
      "cell_type": "code",
      "metadata": {
        "id": "QCqiSaUbsQZK",
        "outputId": "c8a9d68e-8635-4c14-ec09-46848eb97b93",
        "colab": {
          "base_uri": "https://localhost:8080/",
          "height": 34
        }
      },
      "source": [
        "# Evaluate performance by calculating the silhouette coefficient\n",
        "preprocessed_data = pipe[\"preprocessor\"].transform(data)\n",
        "predicted_labels = pipe[\"clusterer\"][\"kmeans\"].labels_\n",
        "\n",
        "silhouette_score(preprocessed_data, predicted_labels)"
      ],
      "execution_count": null,
      "outputs": [
        {
          "output_type": "execute_result",
          "data": {
            "text/plain": [
              "0.5652241879059784"
            ]
          },
          "metadata": {
            "tags": []
          },
          "execution_count": 47
        }
      ]
    },
    {
      "cell_type": "code",
      "metadata": {
        "id": "fUDCi5WFsf-F",
        "outputId": "01c0ffbf-ef4b-44c0-aaf8-50439c41acc6",
        "colab": {
          "base_uri": "https://localhost:8080/",
          "height": 34
        }
      },
      "source": [
        "# Adjusted random (ARI) score indicates how close the predicted labels and true labels\n",
        "# are to forming identical clusters (0-1)\n",
        "adjusted_rand_score(true_labels, predicted_labels)"
      ],
      "execution_count": null,
      "outputs": [
        {
          "output_type": "execute_result",
          "data": {
            "text/plain": [
              "0.7163421126838475"
            ]
          },
          "metadata": {
            "tags": []
          },
          "execution_count": 48
        }
      ]
    },
    {
      "cell_type": "code",
      "metadata": {
        "id": "Lzbcxt54skjW",
        "outputId": "5be38860-49d3-4cf6-f368-fcb20a2907a8",
        "colab": {
          "base_uri": "https://localhost:8080/",
          "height": 612
        }
      },
      "source": [
        "# Visualize with pandas\n",
        "pcadf = pd.DataFrame(\n",
        "    pipe[\"preprocessor\"].transform(data),\n",
        "    columns=[\"Component 1\", \"Component 2\"]\n",
        ")\n",
        "\n",
        "pcadf[\"Predicted Clusters\"] = pipe[\"clusterer\"][\"kmeans\"].labels_\n",
        "pcadf[\"True Labels\"] = label_encoder.inverse_transform(true_labels)\n",
        "\n",
        "plt.style.use(\"fivethirtyeight\")\n",
        "plt.figure(figsize=(8, 8))\n",
        "\n",
        "scatter = sns.scatterplot(\n",
        "    \"Component 1\",\n",
        "    \"Component 2\",\n",
        "    s=50,\n",
        "    data=pcadf,\n",
        "    hue=\"Predicted Clusters\",\n",
        "    style=\"True Labels\",\n",
        "    palette=\"Set2\"\n",
        ")\n",
        "\n",
        "scatter.set_title(\n",
        "    \"Clustering Results from Iris Dataset\"\n",
        ")\n",
        "plt.legend(bbox_to_anchor=(1.05, 1), loc=2, borderaxespad=0.0)\n",
        "\n",
        "plt.show()"
      ],
      "execution_count": 50,
      "outputs": [
        {
          "output_type": "stream",
          "text": [
            "/usr/local/lib/python3.6/dist-packages/seaborn/_decorators.py:43: FutureWarning: Pass the following variables as keyword args: x, y. From version 0.12, the only valid positional argument will be `data`, and passing other arguments without an explicit keyword will result in an error or misinterpretation.\n",
            "  FutureWarning\n"
          ],
          "name": "stderr"
        },
        {
          "output_type": "display_data",
          "data": {
            "image/png": "[encoded data removed]",
            "text/plain": [
              "<Figure size 576x576 with 1 Axes>"
            ]
          },
          "metadata": {
            "tags": []
          }
        }
      ]
    }
  ]
}