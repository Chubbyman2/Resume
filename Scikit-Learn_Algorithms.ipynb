{
  "nbformat": 4,
  "nbformat_minor": 0,
  "metadata": {
    "colab": {
      "name": "Scikit-Learn Algorithms with Iris Dataset.ipynb",
      "provenance": [],
      "authorship_tag": "ABX9TyPLgIldvtlCVeCucBt3IvbR",
      "include_colab_link": true
    },
    "kernelspec": {
      "name": "python3",
      "display_name": "Python 3"
    }
  },
  "cells": [
    {
      "cell_type": "markdown",
      "metadata": {
        "id": "view-in-github",
        "colab_type": "text"
      },
      "source": [
        "<a href=\"https://colab.research.google.com/github/Chubbyman2/Resume/blob/master/Scikit-Learn_Algorithms.ipynb\" target=\"_parent\"><img src=\"https://colab.research.google.com/assets/colab-badge.svg\" alt=\"Open In Colab\"/></a>"
      ]
    },
    {
      "cell_type": "markdown",
      "metadata": {
        "id": "25_vA1km6reg"
      },
      "source": [
        "A comparison of the performance of three classification algorithms included with Scikit-Learn on the Iris dataset.\n",
        "*   **Gaussian Naive-Bayes Classifier**\n",
        "*   **Linear Support Vector Classification (SVC)**\n",
        "*   **K-Neighbours Classifier**"
      ]
    },
    {
      "cell_type": "code",
      "metadata": {
        "id": "bpletpC9HNEO"
      },
      "source": [
        "import matplotlib.pyplot as plt\n",
        "import numpy as np\n",
        "import os\n",
        "import pandas as pd\n",
        "import seaborn as sns\n",
        "from sklearn import preprocessing\n",
        "from sklearn.model_selection import train_test_split"
      ],
      "execution_count": 1,
      "outputs": []
    },
    {
      "cell_type": "code",
      "metadata": {
        "id": "0eELtwa3OwlO",
        "outputId": "7697a313-091a-4630-85f0-1b9f4c407473",
        "colab": {
          "base_uri": "https://localhost:8080/",
          "height": 34
        }
      },
      "source": [
        "from google.colab import drive\n",
        "drive.mount('/content/gdrive')"
      ],
      "execution_count": 2,
      "outputs": [
        {
          "output_type": "stream",
          "text": [
            "Mounted at /content/gdrive\n"
          ],
          "name": "stdout"
        }
      ]
    },
    {
      "cell_type": "code",
      "metadata": {
        "id": "Y-bgcJnpKAYQ"
      },
      "source": [
        "# Import dataset\n",
        "datafile = \"/content/gdrive/My Drive/iris_dataset.csv\"\n",
        "\n",
        "# Convert to pandas dataframe\n",
        "iris_data = pd.read_csv(datafile)"
      ],
      "execution_count": 9,
      "outputs": []
    },
    {
      "cell_type": "code",
      "metadata": {
        "id": "iqDZxSOwPqjS",
        "outputId": "386c5c2b-9c97-4fbe-9bc0-6e121acf3f64",
        "colab": {
          "base_uri": "https://localhost:8080/",
          "height": 119
        }
      },
      "source": [
        "# Display different columns and their respective datatypes\n",
        "iris_data.dtypes"
      ],
      "execution_count": 10,
      "outputs": [
        {
          "output_type": "execute_result",
          "data": {
            "text/plain": [
              "sepal length (cm)    float64\n",
              "sepal width (cm)     float64\n",
              "petal length (cm)    float64\n",
              "petal width (cm)     float64\n",
              "target                object\n",
              "dtype: object"
            ]
          },
          "metadata": {
            "tags": []
          },
          "execution_count": 10
        }
      ]
    },
    {
      "cell_type": "code",
      "metadata": {
        "id": "rzM9OYQuSD5N",
        "outputId": "adff5bf1-3711-4b22-9afe-cc4a96824a7d",
        "colab": {
          "base_uri": "https://localhost:8080/",
          "height": 221
        }
      },
      "source": [
        "# Preprocessing data\n",
        "encoder = preprocessing.LabelEncoder()\n",
        "iris_data['Sepal Length'] = encoder.fit_transform(iris_data['sepal length (cm)'])\n",
        "iris_data['Sepal Width'] = encoder.fit_transform(iris_data['sepal width (cm)'])\n",
        "iris_data['Petal Length'] = encoder.fit_transform(iris_data['petal length (cm)'])\n",
        "iris_data['Petal Width'] = encoder.fit_transform(iris_data['petal width (cm)'])\n",
        "\n",
        "iris_data.head()"
      ],
      "execution_count": 11,
      "outputs": [
        {
          "output_type": "execute_result",
          "data": {
            "text/html": [
              "<div>\n",
              "<style scoped>\n",
              "    .dataframe tbody tr th:only-of-type {\n",
              "        vertical-align: middle;\n",
              "    }\n",
              "\n",
              "    .dataframe tbody tr th {\n",
              "        vertical-align: top;\n",
              "    }\n",
              "\n",
              "    .dataframe thead th {\n",
              "        text-align: right;\n",
              "    }\n",
              "</style>\n",
              "<table border=\"1\" class=\"dataframe\">\n",
              "  <thead>\n",
              "    <tr style=\"text-align: right;\">\n",
              "      <th></th>\n",
              "      <th>sepal length (cm)</th>\n",
              "      <th>sepal width (cm)</th>\n",
              "      <th>petal length (cm)</th>\n",
              "      <th>petal width (cm)</th>\n",
              "      <th>target</th>\n",
              "      <th>Sepal Length</th>\n",
              "      <th>Sepal Width</th>\n",
              "      <th>Petal Length</th>\n",
              "      <th>Petal Width</th>\n",
              "    </tr>\n",
              "  </thead>\n",
              "  <tbody>\n",
              "    <tr>\n",
              "      <th>0</th>\n",
              "      <td>5.1</td>\n",
              "      <td>3.5</td>\n",
              "      <td>1.4</td>\n",
              "      <td>0.2</td>\n",
              "      <td>SETOSA</td>\n",
              "      <td>8</td>\n",
              "      <td>14</td>\n",
              "      <td>4</td>\n",
              "      <td>1</td>\n",
              "    </tr>\n",
              "    <tr>\n",
              "      <th>1</th>\n",
              "      <td>4.9</td>\n",
              "      <td>3.0</td>\n",
              "      <td>1.4</td>\n",
              "      <td>0.2</td>\n",
              "      <td>SETOSA</td>\n",
              "      <td>6</td>\n",
              "      <td>9</td>\n",
              "      <td>4</td>\n",
              "      <td>1</td>\n",
              "    </tr>\n",
              "    <tr>\n",
              "      <th>2</th>\n",
              "      <td>4.7</td>\n",
              "      <td>3.2</td>\n",
              "      <td>1.3</td>\n",
              "      <td>0.2</td>\n",
              "      <td>SETOSA</td>\n",
              "      <td>4</td>\n",
              "      <td>11</td>\n",
              "      <td>3</td>\n",
              "      <td>1</td>\n",
              "    </tr>\n",
              "    <tr>\n",
              "      <th>3</th>\n",
              "      <td>4.6</td>\n",
              "      <td>3.1</td>\n",
              "      <td>1.5</td>\n",
              "      <td>0.2</td>\n",
              "      <td>SETOSA</td>\n",
              "      <td>3</td>\n",
              "      <td>10</td>\n",
              "      <td>5</td>\n",
              "      <td>1</td>\n",
              "    </tr>\n",
              "    <tr>\n",
              "      <th>4</th>\n",
              "      <td>5.0</td>\n",
              "      <td>3.6</td>\n",
              "      <td>1.4</td>\n",
              "      <td>0.2</td>\n",
              "      <td>SETOSA</td>\n",
              "      <td>7</td>\n",
              "      <td>15</td>\n",
              "      <td>4</td>\n",
              "      <td>1</td>\n",
              "    </tr>\n",
              "  </tbody>\n",
              "</table>\n",
              "</div>"
            ],
            "text/plain": [
              "   sepal length (cm)  sepal width (cm)  ...  Petal Length  Petal Width\n",
              "0                5.1               3.5  ...             4            1\n",
              "1                4.9               3.0  ...             4            1\n",
              "2                4.7               3.2  ...             3            1\n",
              "3                4.6               3.1  ...             5            1\n",
              "4                5.0               3.6  ...             4            1\n",
              "\n",
              "[5 rows x 9 columns]"
            ]
          },
          "metadata": {
            "tags": []
          },
          "execution_count": 11
        }
      ]
    },
    {
      "cell_type": "code",
      "metadata": {
        "id": "uR4-UvVESr2d",
        "outputId": "e4cba3ec-96b9-4bea-8417-375f223a42f5",
        "colab": {
          "base_uri": "https://localhost:8080/",
          "height": 128
        }
      },
      "source": [
        "# Separate features and target variables\n",
        "cols = [col for col in iris_data.columns if col not in ['target']]\n",
        "data = iris_data[cols]\n",
        "target = iris_data['target']\n",
        "data.head(n=2)"
      ],
      "execution_count": 12,
      "outputs": [
        {
          "output_type": "execute_result",
          "data": {
            "text/html": [
              "<div>\n",
              "<style scoped>\n",
              "    .dataframe tbody tr th:only-of-type {\n",
              "        vertical-align: middle;\n",
              "    }\n",
              "\n",
              "    .dataframe tbody tr th {\n",
              "        vertical-align: top;\n",
              "    }\n",
              "\n",
              "    .dataframe thead th {\n",
              "        text-align: right;\n",
              "    }\n",
              "</style>\n",
              "<table border=\"1\" class=\"dataframe\">\n",
              "  <thead>\n",
              "    <tr style=\"text-align: right;\">\n",
              "      <th></th>\n",
              "      <th>sepal length (cm)</th>\n",
              "      <th>sepal width (cm)</th>\n",
              "      <th>petal length (cm)</th>\n",
              "      <th>petal width (cm)</th>\n",
              "      <th>Sepal Length</th>\n",
              "      <th>Sepal Width</th>\n",
              "      <th>Petal Length</th>\n",
              "      <th>Petal Width</th>\n",
              "    </tr>\n",
              "  </thead>\n",
              "  <tbody>\n",
              "    <tr>\n",
              "      <th>0</th>\n",
              "      <td>5.1</td>\n",
              "      <td>3.5</td>\n",
              "      <td>1.4</td>\n",
              "      <td>0.2</td>\n",
              "      <td>8</td>\n",
              "      <td>14</td>\n",
              "      <td>4</td>\n",
              "      <td>1</td>\n",
              "    </tr>\n",
              "    <tr>\n",
              "      <th>1</th>\n",
              "      <td>4.9</td>\n",
              "      <td>3.0</td>\n",
              "      <td>1.4</td>\n",
              "      <td>0.2</td>\n",
              "      <td>6</td>\n",
              "      <td>9</td>\n",
              "      <td>4</td>\n",
              "      <td>1</td>\n",
              "    </tr>\n",
              "  </tbody>\n",
              "</table>\n",
              "</div>"
            ],
            "text/plain": [
              "   sepal length (cm)  sepal width (cm)  ...  Petal Length  Petal Width\n",
              "0                5.1               3.5  ...             4            1\n",
              "1                4.9               3.0  ...             4            1\n",
              "\n",
              "[2 rows x 8 columns]"
            ]
          },
          "metadata": {
            "tags": []
          },
          "execution_count": 12
        }
      ]
    },
    {
      "cell_type": "code",
      "metadata": {
        "id": "3M0cfbRxTcH_"
      },
      "source": [
        "# Divide into training and testing sets\n",
        "# Split 80/20\n",
        "data_train, data_test, target_train, target_test = train_test_split(data, target, test_size = 0.20, random_state = None)"
      ],
      "execution_count": 13,
      "outputs": []
    },
    {
      "cell_type": "markdown",
      "metadata": {
        "id": "-l_L79rXU3a1"
      },
      "source": [
        "**Gaussian Naive-Bayes Classifier**"
      ]
    },
    {
      "cell_type": "code",
      "metadata": {
        "id": "w4tOEqguU2qa"
      },
      "source": [
        "from sklearn.naive_bayes import GaussianNB\n",
        "from sklearn.metrics import accuracy_score"
      ],
      "execution_count": 15,
      "outputs": []
    },
    {
      "cell_type": "code",
      "metadata": {
        "id": "HzW1xl1zwWAg",
        "outputId": "856b5068-096c-401d-ee18-71d9dbce84cf",
        "colab": {
          "base_uri": "https://localhost:8080/",
          "height": 34
        }
      },
      "source": [
        "gnb = GaussianNB()\n",
        "\n",
        "# Train algorithm on data\n",
        "prediction1 = gnb.fit(data_train, target_train).predict(data_test)\n",
        "\n",
        "# Model accuracy\n",
        "print(\"Naive-Bayes Accuracy: \", accuracy_score(target_test, prediction1, normalize=True))"
      ],
      "execution_count": 38,
      "outputs": [
        {
          "output_type": "stream",
          "text": [
            "Naive-Bayes Accuracy:  0.9333333333333333\n"
          ],
          "name": "stdout"
        }
      ]
    },
    {
      "cell_type": "markdown",
      "metadata": {
        "id": "vuEUA6xkw5aq"
      },
      "source": [
        "**Linear Support Vector Classification (SVC)**"
      ]
    },
    {
      "cell_type": "code",
      "metadata": {
        "id": "ZFUv1D1dw9NV"
      },
      "source": [
        "from sklearn.svm import LinearSVC\n",
        "from sklearn.metrics import accuracy_score"
      ],
      "execution_count": 17,
      "outputs": []
    },
    {
      "cell_type": "code",
      "metadata": {
        "id": "qDjrfX_vxKw2",
        "outputId": "12747a1e-64a2-466c-bdc0-cb1d61d1742e",
        "colab": {
          "base_uri": "https://localhost:8080/",
          "height": 88
        }
      },
      "source": [
        "svc = LinearSVC(random_state=None)\n",
        "\n",
        "# Train algorithm on data\n",
        "prediction2 = svc.fit(data_train, target_train).predict(data_test)\n",
        "\n",
        "# Model accuracy\n",
        "print(\"LinearSVC Accuracy: \", accuracy_score(target_test, prediction2, normalize=True))"
      ],
      "execution_count": 45,
      "outputs": [
        {
          "output_type": "stream",
          "text": [
            "LinearSVC Accuracy:  0.9666666666666667\n"
          ],
          "name": "stdout"
        },
        {
          "output_type": "stream",
          "text": [
            "/usr/local/lib/python3.6/dist-packages/sklearn/svm/_base.py:947: ConvergenceWarning: Liblinear failed to converge, increase the number of iterations.\n",
            "  \"the number of iterations.\", ConvergenceWarning)\n"
          ],
          "name": "stderr"
        }
      ]
    },
    {
      "cell_type": "markdown",
      "metadata": {
        "id": "n7UPN-BWxzGx"
      },
      "source": [
        "**K-Neighbours Classifier**"
      ]
    },
    {
      "cell_type": "code",
      "metadata": {
        "id": "6XZwJTh4x2vj"
      },
      "source": [
        "from sklearn.neighbors import KNeighborsClassifier\n",
        "from sklearn.metrics import accuracy_score"
      ],
      "execution_count": 19,
      "outputs": []
    },
    {
      "cell_type": "code",
      "metadata": {
        "id": "xWs6SA-3x7QX",
        "outputId": "5832ff50-11c0-4fb4-ca99-3fc2c1dcf287",
        "colab": {
          "base_uri": "https://localhost:8080/",
          "height": 34
        }
      },
      "source": [
        "kneigh = KNeighborsClassifier(n_neighbors=3)\n",
        "\n",
        "# Train algorithm on data\n",
        "prediction3 = kneigh.fit(data_train, target_train).predict(data_test)\n",
        "\n",
        "# Model accuracy\n",
        "print(\"K-Neighbors Accuracy: \", accuracy_score(target_test, prediction3))"
      ],
      "execution_count": 40,
      "outputs": [
        {
          "output_type": "stream",
          "text": [
            "K-Neighbors Accuracy:  0.9333333333333333\n"
          ],
          "name": "stdout"
        }
      ]
    },
    {
      "cell_type": "markdown",
      "metadata": {
        "id": "cpz3d4g2ymdo"
      },
      "source": [
        "**Performance Comparison**\n",
        "\n",
        "Visualize how well the three algorithms performed compared to each other."
      ]
    },
    {
      "cell_type": "code",
      "metadata": {
        "id": "aX6qTrsw43dX",
        "outputId": "aafbceff-b3fa-438f-c9e8-0256fd9ae9c0",
        "colab": {
          "base_uri": "https://localhost:8080/",
          "height": 71
        }
      },
      "source": [
        "from yellowbrick.classifier import ClassificationReport"
      ],
      "execution_count": 24,
      "outputs": [
        {
          "output_type": "stream",
          "text": [
            "/usr/local/lib/python3.6/dist-packages/sklearn/utils/deprecation.py:144: FutureWarning: The sklearn.metrics.classification module is  deprecated in version 0.22 and will be removed in version 0.24. The corresponding classes / functions should instead be imported from sklearn.metrics. Anything that cannot be imported from sklearn.metrics is now part of the private API.\n",
            "  warnings.warn(message, FutureWarning)\n"
          ],
          "name": "stderr"
        }
      ]
    },
    {
      "cell_type": "code",
      "metadata": {
        "id": "9fIZMGMlyoP3",
        "outputId": "4b45b257-32ae-40bd-9067-4dd6d0f877fb",
        "colab": {
          "base_uri": "https://localhost:8080/",
          "height": 401
        }
      },
      "source": [
        "# Gaussian Naive-Bayes\n",
        "visualizer = ClassificationReport(gnb, classes=[\"Setosa\", \"Versicolor\", \"Virginica\"])\n",
        "visualizer.fit(data_train, target_train) \n",
        "visualizer.score(data_test, target_test) \n",
        "visualizer.poof() # Display data"
      ],
      "execution_count": 41,
      "outputs": [
        {
          "output_type": "display_data",
          "data": {
            "image/png": "[encoded data removed]",
            "text/plain": [
              "<Figure size 576x396 with 2 Axes>"
            ]
          },
          "metadata": {
            "tags": []
          }
        }
      ]
    },
    {
      "cell_type": "code",
      "metadata": {
        "id": "Enx20HPyzKLS",
        "outputId": "af400f54-e19b-4121-90e6-967655900a10",
        "colab": {
          "base_uri": "https://localhost:8080/",
          "height": 455
        }
      },
      "source": [
        "# Linear SVC\n",
        "visualizer = ClassificationReport(svc, classes=[\"Setosa\", \"Versicolor\", \"Virginica\"])\n",
        "visualizer.fit(data_train, target_train) \n",
        "visualizer.score(data_test, target_test) \n",
        "visualizer.poof() "
      ],
      "execution_count": 46,
      "outputs": [
        {
          "output_type": "stream",
          "text": [
            "/usr/local/lib/python3.6/dist-packages/sklearn/svm/_base.py:947: ConvergenceWarning: Liblinear failed to converge, increase the number of iterations.\n",
            "  \"the number of iterations.\", ConvergenceWarning)\n"
          ],
          "name": "stderr"
        },
        {
          "output_type": "display_data",
          "data": {
            "image/png": "[encoded data removed]",
            "text/plain": [
              "<Figure size 576x396 with 2 Axes>"
            ]
          },
          "metadata": {
            "tags": []
          }
        }
      ]
    },
    {
      "cell_type": "code",
      "metadata": {
        "id": "gM6plOhgzUZd",
        "outputId": "61b8c8de-2654-4cb1-daad-47f434aabf43",
        "colab": {
          "base_uri": "https://localhost:8080/",
          "height": 401
        }
      },
      "source": [
        "# K-Neighbours\n",
        "visualizer = ClassificationReport(kneigh, classes=[\"Setosa\", \"Versicolor\", \"Virginica\"])\n",
        "visualizer.fit(data_train, target_train)\n",
        "visualizer.score(data_test, target_test) \n",
        "visualizer.poof() "
      ],
      "execution_count": 43,
      "outputs": [
        {
          "output_type": "display_data",
          "data": {
            "image/png": "[encoded data removed]",
            "text/plain": [
              "<Figure size 576x396 with 2 Axes>"
            ]
          },
          "metadata": {
            "tags": []
          }
        }
      ]
    },
    {
      "cell_type": "markdown",
      "metadata": {
        "id": "Np5mzD4-6EyQ"
      },
      "source": [
        "**In Conclusion**\n",
        "\n",
        "All three algorithms perform very well on a simple dataset such as the Iris dataset."
      ]
    },
    {
      "cell_type": "code",
      "metadata": {
        "id": "u1itX73s6L4z",
        "outputId": "7f909627-9a75-4416-f2d4-1cfcec167933",
        "colab": {
          "base_uri": "https://localhost:8080/",
          "height": 68
        }
      },
      "source": [
        "print(\"Naive-Bayes Accuracy: \", accuracy_score(target_test, prediction1, normalize=True))\n",
        "print(\"LinearSVC Accuracy: \", accuracy_score(target_test, prediction2, normalize=True))\n",
        "print(\"K-Neighbors Accuracy: \", accuracy_score(target_test, prediction3))"
      ],
      "execution_count": 44,
      "outputs": [
        {
          "output_type": "stream",
          "text": [
            "Naive-Bayes Accuracy:  0.9333333333333333\n",
            "LinearSVC Accuracy:  0.9666666666666667\n",
            "K-Neighbors Accuracy:  0.9333333333333333\n"
          ],
          "name": "stdout"
        }
      ]
    }
  ]
}